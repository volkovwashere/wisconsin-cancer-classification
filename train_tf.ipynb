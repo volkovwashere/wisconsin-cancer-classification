{
 "cells": [
  {
   "cell_type": "code",
   "execution_count": 3,
   "id": "ee502913-f632-4944-9c55-9fe675d5a151",
   "metadata": {},
   "outputs": [
    {
     "name": "stderr",
     "output_type": "stream",
     "text": [
      "2023-02-20 20:47:30.939560: I tensorflow/core/platform/cpu_feature_guard.cc:193] This TensorFlow binary is optimized with oneAPI Deep Neural Network Library (oneDNN) to use the following CPU instructions in performance-critical operations:  AVX2 AVX512F FMA\n",
      "To enable them in other operations, rebuild TensorFlow with the appropriate compiler flags.\n",
      "2023-02-20 20:47:31.976532: W tensorflow/compiler/xla/stream_executor/platform/default/dso_loader.cc:64] Could not load dynamic library 'libcudart.so.11.0'; dlerror: libcudart.so.11.0: cannot open shared object file: No such file or directory\n",
      "2023-02-20 20:47:31.976555: I tensorflow/compiler/xla/stream_executor/cuda/cudart_stub.cc:29] Ignore above cudart dlerror if you do not have a GPU set up on your machine.\n",
      "2023-02-20 20:47:34.491092: W tensorflow/compiler/xla/stream_executor/platform/default/dso_loader.cc:64] Could not load dynamic library 'libnvinfer.so.7'; dlerror: libnvinfer.so.7: cannot open shared object file: No such file or directory\n",
      "2023-02-20 20:47:34.492189: W tensorflow/compiler/xla/stream_executor/platform/default/dso_loader.cc:64] Could not load dynamic library 'libnvinfer_plugin.so.7'; dlerror: libnvinfer_plugin.so.7: cannot open shared object file: No such file or directory\n",
      "2023-02-20 20:47:34.492202: W tensorflow/compiler/tf2tensorrt/utils/py_utils.cc:38] TF-TRT Warning: Cannot dlopen some TensorRT libraries. If you would like to use Nvidia GPU with TensorRT, please make sure the missing libraries mentioned above are installed properly.\n"
     ]
    }
   ],
   "source": [
    "import tensorflow as tf\n",
    "import numpy as np\n",
    "import pandas as pd\n",
    "from math import floor, log\n",
    "from sklearn.model_selection import train_test_split"
   ]
  },
  {
   "cell_type": "code",
   "execution_count": 4,
   "id": "da1fbcd3-331a-45cd-8c7f-890c51ff69a8",
   "metadata": {},
   "outputs": [
    {
     "name": "stderr",
     "output_type": "stream",
     "text": [
      "2023-02-20 20:47:37.202359: W tensorflow/compiler/xla/stream_executor/platform/default/dso_loader.cc:64] Could not load dynamic library 'libcuda.so.1'; dlerror: libcuda.so.1: cannot open shared object file: No such file or directory\n",
      "2023-02-20 20:47:37.203945: W tensorflow/compiler/xla/stream_executor/cuda/cuda_driver.cc:265] failed call to cuInit: UNKNOWN ERROR (303)\n",
      "2023-02-20 20:47:37.203999: I tensorflow/compiler/xla/stream_executor/cuda/cuda_diagnostics.cc:156] kernel driver does not appear to be running on this host (default): /proc/driver/nvidia/version does not exist\n",
      "2023-02-20 20:47:37.206243: I tensorflow/core/platform/cpu_feature_guard.cc:193] This TensorFlow binary is optimized with oneAPI Deep Neural Network Library (oneDNN) to use the following CPU instructions in performance-critical operations:  AVX2 AVX512F FMA\n",
      "To enable them in other operations, rebuild TensorFlow with the appropriate compiler flags.\n"
     ]
    }
   ],
   "source": [
    "random_seed = 42\n",
    "epoch = 50\n",
    "batch_size = 32\n",
    "\n",
    "tb_log = \"tb_logs\"\n",
    "logdir = tb_log + \"/batch_loss\"\n",
    "file_writer = tf.summary.create_file_writer(logdir)"
   ]
  },
  {
   "cell_type": "code",
   "execution_count": 5,
   "id": "796217a9-78eb-4256-8cd8-49fede018b41",
   "metadata": {},
   "outputs": [],
   "source": [
    "class FCNBlock(tf.keras.Model):\n",
    "    def __init__(self, out_features: int):\n",
    "        super(FCNBlock, self).__init__()\n",
    "        self.linear = tf.keras.layers.Dense(units=out_features)\n",
    "        self.relu = tf.keras.layers.ReLU()\n",
    "        self.layer_norm = tf.keras.layers.LayerNormalization()\n",
    "    \n",
    "    def call(self, x: tf.Tensor) -> tf.Tensor:\n",
    "        return self.relu(self.layer_norm(self.linear(x)))        \n"
   ]
  },
  {
   "cell_type": "code",
   "execution_count": 6,
   "id": "350ec3e0-f9e7-4621-987e-82ce76fbee97",
   "metadata": {},
   "outputs": [],
   "source": [
    "class Encoder(tf.keras.Model):\n",
    "    def __init__(self, output_feature: int, num_fcn_blocks: int):\n",
    "        super(Encoder, self).__init__()\n",
    "        self.fcn_blocks =  [\n",
    "            FCNBlock(output_feature * (2 ** i))\n",
    "            for i in range(1, num_fcn_blocks)\n",
    "        ]\n",
    "    def call(self, x: tf.Tensor) -> tf.Tensor:\n",
    "        for fcn_block in self.fcn_blocks:\n",
    "            x = fcn_block(x)\n",
    "        x_normalized = tf.math.l2_normalize(x, axis=-1)\n",
    "        return x_normalized"
   ]
  },
  {
   "cell_type": "code",
   "execution_count": 7,
   "id": "502b7cd6-6f61-4001-9915-23264cf8748f",
   "metadata": {},
   "outputs": [],
   "source": [
    "class Decoder(tf.keras.Model):\n",
    "    def __init__(self, output_feature: int, num_fcn_blocks: int):\n",
    "        super(Decoder, self).__init__()\n",
    "        assert num_fcn_blocks <= floor(log(output_feature)/log(2)) - 1\n",
    "        \n",
    "        self.fcn_blocks = [\n",
    "            FCNBlock(output_feature // (2 ** i))\n",
    "            for i in range(1, num_fcn_blocks)\n",
    "        ]\n",
    "        # append last block\n",
    "        self.fcn_blocks.append(\n",
    "            tf.keras.layers.Dense(1, activation=\"sigmoid\")\n",
    "        )\n",
    "        \n",
    "    def call(self, x: tf.Tensor) -> tf.Tensor:\n",
    "        for fcn_block in self.fcn_blocks:\n",
    "            x  = fcn_block(x)\n",
    "        return x\n",
    "    "
   ]
  },
  {
   "cell_type": "code",
   "execution_count": 8,
   "id": "cf6f5a7a-9277-4715-abd6-3e2d1e39354d",
   "metadata": {},
   "outputs": [],
   "source": [
    "class BreastCancerClassifier(tf.keras.Model):\n",
    "    def __init__(self, encoder_depth: int, decoder_depth: int, output_feature: int):\n",
    "        super(BreastCancerClassifier, self).__init__()\n",
    "        assert decoder_depth <= encoder_depth\n",
    "        \n",
    "        self.encoder = Encoder(\n",
    "            output_feature=output_feature,\n",
    "            num_fcn_blocks=encoder_depth,\n",
    "        )\n",
    "        self.decoder = Decoder(\n",
    "            output_feature=output_feature * (2 ** encoder_depth),\n",
    "            num_fcn_blocks=decoder_depth,\n",
    "        )\n",
    "        \n",
    "    def call(self, x: tf.Tensor) -> tf.Tensor:\n",
    "        x_encoded = self.encoder(x)\n",
    "        x_logits = self.decoder(x)\n",
    "        return x_logits"
   ]
  },
  {
   "cell_type": "code",
   "execution_count": 9,
   "id": "acf68bb1-1d43-4409-b544-6a016c89ff36",
   "metadata": {},
   "outputs": [],
   "source": [
    "class BatchLossCallback(tf.keras.callbacks.Callback):\n",
    "    def __init__(self, tb_callback, writer):\n",
    "        self.tb_callback = tb_callback\n",
    "        self.writer = writer\n",
    "        self.step = 0\n",
    "        \n",
    "    def on_epoch_begin(self, epoch, logs=None):\n",
    "        self.epoch_step = 0\n",
    "    \n",
    "    def on_epoch_end(self, epoch, logs=None):\n",
    "        self.epoch_step += 1\n",
    "    \n",
    "    def on_train_end(self, epoch, logs=None):\n",
    "        self.step = 0\n",
    "        \n",
    "    def on_test_batch_end(self, batch, logs=None):\n",
    "        with self.writer.as_default():\n",
    "            report = f\"During evaluation, loss is {logs['loss']}\"\n",
    "            tf.summary.text(\"batch_losses\", report, step=self.step)\n",
    "            self.step += 1\n",
    "\n",
    "    def on_train_batch_end(self, batch, logs=None):\n",
    "        with self.writer.as_default():\n",
    "            report = f\"During training, on epoch: {self.epoch_step} on batch: {batch} loss is {logs['loss']}\"\n",
    "            tf.summary.text(\"batch_losses\", report, step=self.step)\n",
    "            self.step += 1\n",
    "    "
   ]
  },
  {
   "cell_type": "code",
   "execution_count": 10,
   "id": "e2cb3bac-2474-4057-86b8-85a52cd597e3",
   "metadata": {},
   "outputs": [],
   "source": [
    "tb_callback = tf.keras.callbacks.TensorBoard(tb_log)\n",
    "callbacks = [tb_callback, BatchLossCallback(tb_callback, file_writer)]"
   ]
  },
  {
   "cell_type": "code",
   "execution_count": 11,
   "id": "da17cfeb-29d9-4de5-87e3-71fb9392cd25",
   "metadata": {},
   "outputs": [],
   "source": [
    "df = pd.read_csv(\"dataset/data.csv\")\n",
    "df = df.iloc[:, :-1]\n",
    "train, test = train_test_split(df, test_size=0.2, random_state=random_seed)\n",
    "def split_dataset_to_gt_target(dataframe):\n",
    "    return dataframe.iloc[:, 2:], dataframe[\"diagnosis\"].str.lower()\n",
    "\n",
    "def convert_pandas_to_numpy_array(*args) -> tuple:\n",
    "    return tuple(\n",
    "        np.array(df) for df in args \n",
    "    )\n",
    "train_x, train_y = split_dataset_to_gt_target(train)\n",
    "test_x, test_y = split_dataset_to_gt_target(test)"
   ]
  },
  {
   "cell_type": "code",
   "execution_count": 12,
   "id": "3d9e463f-363a-4c3f-abdc-a6f4d62b601d",
   "metadata": {},
   "outputs": [],
   "source": [
    "label_mapping = {\"m\": 1, \"b\":0}"
   ]
  },
  {
   "cell_type": "code",
   "execution_count": 13,
   "id": "6c5b6926-7f5a-4b2f-9fd0-c4cf9b0ad3a5",
   "metadata": {},
   "outputs": [],
   "source": [
    "train_y = train_y.apply(lambda x: label_mapping[x])\n",
    "test_y = test_y.apply(lambda x: label_mapping[x])"
   ]
  },
  {
   "cell_type": "code",
   "execution_count": 14,
   "id": "83c2d15a-37c3-4f52-839e-940face76a0f",
   "metadata": {},
   "outputs": [],
   "source": [
    "train_x, train_y, test_x, test_y = convert_pandas_to_numpy_array(train_x, train_y, test_x, test_y)"
   ]
  },
  {
   "cell_type": "code",
   "execution_count": 15,
   "id": "a5a95883-4164-4a00-9b7e-b18ba67db1f6",
   "metadata": {},
   "outputs": [],
   "source": [
    "breast_cancer_classifier = BreastCancerClassifier(\n",
    "    encoder_depth=5,\n",
    "    decoder_depth=3,\n",
    "    output_feature=64,\n",
    ")\n",
    "optim = tf.keras.optimizers.SGD(\n",
    "    learning_rate=0.01,\n",
    "    momentum=0.9,\n",
    "    nesterov=True,\n",
    ")\n",
    "loss = tf.keras.losses.BinaryCrossentropy()"
   ]
  },
  {
   "cell_type": "code",
   "execution_count": 16,
   "id": "f3e64a51-9fc8-4ffb-aacf-b125e9e1b8bd",
   "metadata": {},
   "outputs": [],
   "source": [
    "breast_cancer_classifier.compile(\n",
    "    optimizer=optim,\n",
    "    loss=loss,\n",
    "    metrics=['accuracy', 'AUC'],\n",
    ")\n"
   ]
  },
  {
   "cell_type": "code",
   "execution_count": 17,
   "id": "efb516bf-833a-4ee2-b58e-fb96f9cad538",
   "metadata": {},
   "outputs": [
    {
     "name": "stdout",
     "output_type": "stream",
     "text": [
      "Epoch 1/50\n",
      "WARNING:tensorflow:Gradients do not exist for variables ['breast_cancer_classifier/encoder/fcn_block/dense/kernel:0', 'breast_cancer_classifier/encoder/fcn_block/dense/bias:0', 'breast_cancer_classifier/encoder/fcn_block/layer_normalization/gamma:0', 'breast_cancer_classifier/encoder/fcn_block/layer_normalization/beta:0', 'breast_cancer_classifier/encoder/fcn_block_1/dense_1/kernel:0', 'breast_cancer_classifier/encoder/fcn_block_1/dense_1/bias:0', 'breast_cancer_classifier/encoder/fcn_block_1/layer_normalization_1/gamma:0', 'breast_cancer_classifier/encoder/fcn_block_1/layer_normalization_1/beta:0', 'breast_cancer_classifier/encoder/fcn_block_2/dense_2/kernel:0', 'breast_cancer_classifier/encoder/fcn_block_2/dense_2/bias:0', 'breast_cancer_classifier/encoder/fcn_block_2/layer_normalization_2/gamma:0', 'breast_cancer_classifier/encoder/fcn_block_2/layer_normalization_2/beta:0', 'breast_cancer_classifier/encoder/fcn_block_3/dense_3/kernel:0', 'breast_cancer_classifier/encoder/fcn_block_3/dense_3/bias:0', 'breast_cancer_classifier/encoder/fcn_block_3/layer_normalization_3/gamma:0', 'breast_cancer_classifier/encoder/fcn_block_3/layer_normalization_3/beta:0'] when minimizing the loss. If you're using `model.compile()`, did you forget to provide a `loss` argument?\n",
      "WARNING:tensorflow:Gradients do not exist for variables ['breast_cancer_classifier/encoder/fcn_block/dense/kernel:0', 'breast_cancer_classifier/encoder/fcn_block/dense/bias:0', 'breast_cancer_classifier/encoder/fcn_block/layer_normalization/gamma:0', 'breast_cancer_classifier/encoder/fcn_block/layer_normalization/beta:0', 'breast_cancer_classifier/encoder/fcn_block_1/dense_1/kernel:0', 'breast_cancer_classifier/encoder/fcn_block_1/dense_1/bias:0', 'breast_cancer_classifier/encoder/fcn_block_1/layer_normalization_1/gamma:0', 'breast_cancer_classifier/encoder/fcn_block_1/layer_normalization_1/beta:0', 'breast_cancer_classifier/encoder/fcn_block_2/dense_2/kernel:0', 'breast_cancer_classifier/encoder/fcn_block_2/dense_2/bias:0', 'breast_cancer_classifier/encoder/fcn_block_2/layer_normalization_2/gamma:0', 'breast_cancer_classifier/encoder/fcn_block_2/layer_normalization_2/beta:0', 'breast_cancer_classifier/encoder/fcn_block_3/dense_3/kernel:0', 'breast_cancer_classifier/encoder/fcn_block_3/dense_3/bias:0', 'breast_cancer_classifier/encoder/fcn_block_3/layer_normalization_3/gamma:0', 'breast_cancer_classifier/encoder/fcn_block_3/layer_normalization_3/beta:0'] when minimizing the loss. If you're using `model.compile()`, did you forget to provide a `loss` argument?\n",
      "WARNING:tensorflow:Gradients do not exist for variables ['breast_cancer_classifier/encoder/fcn_block/dense/kernel:0', 'breast_cancer_classifier/encoder/fcn_block/dense/bias:0', 'breast_cancer_classifier/encoder/fcn_block/layer_normalization/gamma:0', 'breast_cancer_classifier/encoder/fcn_block/layer_normalization/beta:0', 'breast_cancer_classifier/encoder/fcn_block_1/dense_1/kernel:0', 'breast_cancer_classifier/encoder/fcn_block_1/dense_1/bias:0', 'breast_cancer_classifier/encoder/fcn_block_1/layer_normalization_1/gamma:0', 'breast_cancer_classifier/encoder/fcn_block_1/layer_normalization_1/beta:0', 'breast_cancer_classifier/encoder/fcn_block_2/dense_2/kernel:0', 'breast_cancer_classifier/encoder/fcn_block_2/dense_2/bias:0', 'breast_cancer_classifier/encoder/fcn_block_2/layer_normalization_2/gamma:0', 'breast_cancer_classifier/encoder/fcn_block_2/layer_normalization_2/beta:0', 'breast_cancer_classifier/encoder/fcn_block_3/dense_3/kernel:0', 'breast_cancer_classifier/encoder/fcn_block_3/dense_3/bias:0', 'breast_cancer_classifier/encoder/fcn_block_3/layer_normalization_3/gamma:0', 'breast_cancer_classifier/encoder/fcn_block_3/layer_normalization_3/beta:0'] when minimizing the loss. If you're using `model.compile()`, did you forget to provide a `loss` argument?\n",
      "WARNING:tensorflow:Gradients do not exist for variables ['breast_cancer_classifier/encoder/fcn_block/dense/kernel:0', 'breast_cancer_classifier/encoder/fcn_block/dense/bias:0', 'breast_cancer_classifier/encoder/fcn_block/layer_normalization/gamma:0', 'breast_cancer_classifier/encoder/fcn_block/layer_normalization/beta:0', 'breast_cancer_classifier/encoder/fcn_block_1/dense_1/kernel:0', 'breast_cancer_classifier/encoder/fcn_block_1/dense_1/bias:0', 'breast_cancer_classifier/encoder/fcn_block_1/layer_normalization_1/gamma:0', 'breast_cancer_classifier/encoder/fcn_block_1/layer_normalization_1/beta:0', 'breast_cancer_classifier/encoder/fcn_block_2/dense_2/kernel:0', 'breast_cancer_classifier/encoder/fcn_block_2/dense_2/bias:0', 'breast_cancer_classifier/encoder/fcn_block_2/layer_normalization_2/gamma:0', 'breast_cancer_classifier/encoder/fcn_block_2/layer_normalization_2/beta:0', 'breast_cancer_classifier/encoder/fcn_block_3/dense_3/kernel:0', 'breast_cancer_classifier/encoder/fcn_block_3/dense_3/bias:0', 'breast_cancer_classifier/encoder/fcn_block_3/layer_normalization_3/gamma:0', 'breast_cancer_classifier/encoder/fcn_block_3/layer_normalization_3/beta:0'] when minimizing the loss. If you're using `model.compile()`, did you forget to provide a `loss` argument?\n",
      " 4/15 [=======>......................] - ETA: 0s - loss: 1.0168 - accuracy: 0.5391 - auc: 0.5460 WARNING:tensorflow:Callback method `on_train_batch_end` is slow compared to the batch time (batch time: 0.0138s vs `on_train_batch_end` time: 0.0139s). Check your callbacks.\n",
      "15/15 [==============================] - 4s 19ms/step - loss: 1.0293 - accuracy: 0.6044 - auc: 0.5742\n",
      "Epoch 2/50\n",
      "15/15 [==============================] - 0s 16ms/step - loss: 0.5936 - accuracy: 0.6484 - auc: 0.7211\n",
      "Epoch 3/50\n",
      "15/15 [==============================] - 0s 16ms/step - loss: 0.4963 - accuracy: 0.7802 - auc: 0.8535\n",
      "Epoch 4/50\n",
      "15/15 [==============================] - 0s 13ms/step - loss: 0.4052 - accuracy: 0.8220 - auc: 0.8819\n",
      "Epoch 5/50\n",
      "15/15 [==============================] - 0s 22ms/step - loss: 0.5782 - accuracy: 0.7319 - auc: 0.8156\n",
      "Epoch 6/50\n",
      "15/15 [==============================] - 0s 19ms/step - loss: 0.3084 - accuracy: 0.8857 - auc: 0.9277\n",
      "Epoch 7/50\n",
      "15/15 [==============================] - 0s 18ms/step - loss: 0.3404 - accuracy: 0.8549 - auc: 0.9182\n",
      "Epoch 8/50\n",
      "15/15 [==============================] - 0s 18ms/step - loss: 0.3045 - accuracy: 0.8681 - auc: 0.9325\n",
      "Epoch 9/50\n",
      "15/15 [==============================] - 0s 21ms/step - loss: 0.3718 - accuracy: 0.8615 - auc: 0.9044\n",
      "Epoch 10/50\n",
      "15/15 [==============================] - 0s 25ms/step - loss: 0.3696 - accuracy: 0.8396 - auc: 0.9104\n",
      "Epoch 11/50\n",
      "15/15 [==============================] - 0s 21ms/step - loss: 0.3045 - accuracy: 0.8615 - auc: 0.9335\n",
      "Epoch 12/50\n",
      "15/15 [==============================] - 0s 19ms/step - loss: 0.2837 - accuracy: 0.8835 - auc: 0.9434\n",
      "Epoch 13/50\n",
      "15/15 [==============================] - 0s 16ms/step - loss: 0.2837 - accuracy: 0.8879 - auc: 0.9433\n",
      "Epoch 14/50\n",
      "15/15 [==============================] - 0s 19ms/step - loss: 0.4361 - accuracy: 0.8681 - auc: 0.9040\n",
      "Epoch 15/50\n",
      "15/15 [==============================] - 0s 20ms/step - loss: 0.2718 - accuracy: 0.8857 - auc: 0.9478\n",
      "Epoch 16/50\n",
      "15/15 [==============================] - 0s 27ms/step - loss: 0.3086 - accuracy: 0.8725 - auc: 0.9352\n",
      "Epoch 17/50\n",
      "15/15 [==============================] - 0s 22ms/step - loss: 0.2761 - accuracy: 0.8989 - auc: 0.9467\n",
      "Epoch 18/50\n",
      "15/15 [==============================] - 0s 18ms/step - loss: 0.2963 - accuracy: 0.8703 - auc: 0.9386\n",
      "Epoch 19/50\n",
      "15/15 [==============================] - 0s 29ms/step - loss: 0.2701 - accuracy: 0.8945 - auc: 0.9468\n",
      "Epoch 20/50\n",
      "15/15 [==============================] - 0s 22ms/step - loss: 0.3275 - accuracy: 0.8637 - auc: 0.9254\n",
      "Epoch 21/50\n",
      "15/15 [==============================] - 0s 23ms/step - loss: 0.2458 - accuracy: 0.9011 - auc: 0.9557\n",
      "Epoch 22/50\n",
      "15/15 [==============================] - 0s 19ms/step - loss: 0.2591 - accuracy: 0.9011 - auc: 0.9520\n",
      "Epoch 23/50\n",
      "15/15 [==============================] - 0s 16ms/step - loss: 0.2488 - accuracy: 0.9033 - auc: 0.9526\n",
      "Epoch 24/50\n",
      "15/15 [==============================] - 0s 19ms/step - loss: 0.2353 - accuracy: 0.9011 - auc: 0.9596\n",
      "Epoch 25/50\n",
      "15/15 [==============================] - 0s 26ms/step - loss: 0.2376 - accuracy: 0.9077 - auc: 0.9574\n",
      "Epoch 26/50\n",
      "15/15 [==============================] - 0s 21ms/step - loss: 0.2256 - accuracy: 0.8989 - auc: 0.9630\n",
      "Epoch 27/50\n",
      "15/15 [==============================] - 0s 19ms/step - loss: 0.2834 - accuracy: 0.8813 - auc: 0.9463\n",
      "Epoch 28/50\n",
      "15/15 [==============================] - 1s 39ms/step - loss: 0.2315 - accuracy: 0.9143 - auc: 0.9605\n",
      "Epoch 29/50\n",
      "15/15 [==============================] - 0s 29ms/step - loss: 0.2633 - accuracy: 0.8923 - auc: 0.9496\n",
      "Epoch 30/50\n",
      "15/15 [==============================] - 0s 13ms/step - loss: 0.2517 - accuracy: 0.8945 - auc: 0.9549\n",
      "Epoch 31/50\n",
      "15/15 [==============================] - 0s 14ms/step - loss: 0.2615 - accuracy: 0.8923 - auc: 0.9529\n",
      "Epoch 32/50\n",
      "15/15 [==============================] - 0s 14ms/step - loss: 0.2729 - accuracy: 0.8879 - auc: 0.9449\n",
      "Epoch 33/50\n",
      "15/15 [==============================] - 0s 13ms/step - loss: 0.2671 - accuracy: 0.8967 - auc: 0.9462\n",
      "Epoch 34/50\n",
      "15/15 [==============================] - 0s 15ms/step - loss: 0.2275 - accuracy: 0.9099 - auc: 0.9595\n",
      "Epoch 35/50\n",
      "15/15 [==============================] - 0s 16ms/step - loss: 0.2229 - accuracy: 0.9121 - auc: 0.9626\n",
      "Epoch 36/50\n",
      "15/15 [==============================] - 0s 14ms/step - loss: 0.2478 - accuracy: 0.8967 - auc: 0.9568\n",
      "Epoch 37/50\n",
      "15/15 [==============================] - 0s 19ms/step - loss: 0.2465 - accuracy: 0.8857 - auc: 0.9545\n",
      "Epoch 38/50\n",
      "15/15 [==============================] - 0s 13ms/step - loss: 0.3892 - accuracy: 0.8703 - auc: 0.8873\n",
      "Epoch 39/50\n",
      "15/15 [==============================] - 0s 14ms/step - loss: 0.2514 - accuracy: 0.9055 - auc: 0.9553\n",
      "Epoch 40/50\n",
      "15/15 [==============================] - 0s 14ms/step - loss: 0.2463 - accuracy: 0.9055 - auc: 0.9557\n",
      "Epoch 41/50\n",
      "15/15 [==============================] - 0s 11ms/step - loss: 0.2261 - accuracy: 0.9187 - auc: 0.9629\n",
      "Epoch 42/50\n",
      "15/15 [==============================] - 0s 13ms/step - loss: 0.2456 - accuracy: 0.8989 - auc: 0.9562\n",
      "Epoch 43/50\n",
      "15/15 [==============================] - 0s 11ms/step - loss: 0.2382 - accuracy: 0.8945 - auc: 0.9581\n",
      "Epoch 44/50\n",
      "15/15 [==============================] - 0s 17ms/step - loss: 0.2291 - accuracy: 0.9121 - auc: 0.9614\n",
      "Epoch 45/50\n",
      "15/15 [==============================] - 0s 14ms/step - loss: 0.2437 - accuracy: 0.9055 - auc: 0.9558\n",
      "Epoch 46/50\n",
      "15/15 [==============================] - 0s 14ms/step - loss: 0.2284 - accuracy: 0.9099 - auc: 0.9617\n",
      "Epoch 47/50\n",
      "15/15 [==============================] - 0s 17ms/step - loss: 0.2569 - accuracy: 0.9077 - auc: 0.9486\n",
      "Epoch 48/50\n",
      "15/15 [==============================] - 0s 15ms/step - loss: 0.2413 - accuracy: 0.9011 - auc: 0.9576\n",
      "Epoch 49/50\n",
      "15/15 [==============================] - 0s 13ms/step - loss: 0.2924 - accuracy: 0.8879 - auc: 0.9410\n",
      "Epoch 50/50\n",
      "15/15 [==============================] - 0s 14ms/step - loss: 0.2217 - accuracy: 0.9121 - auc: 0.9624\n"
     ]
    },
    {
     "data": {
      "text/plain": [
       "<keras.callbacks.History at 0x7fe470318130>"
      ]
     },
     "execution_count": 17,
     "metadata": {},
     "output_type": "execute_result"
    }
   ],
   "source": [
    "breast_cancer_classifier.fit(train_x, train_y, epochs=epoch, batch_size=batch_size, callbacks=callbacks)"
   ]
  },
  {
   "cell_type": "code",
   "execution_count": 18,
   "id": "42c2b294-6c35-4cb0-bbc9-0f3a0c9678d8",
   "metadata": {},
   "outputs": [
    {
     "name": "stdout",
     "output_type": "stream",
     "text": [
      "4/4 [==============================] - 1s 17ms/step - loss: 0.1250 - accuracy: 0.9474 - auc: 0.9946\n"
     ]
    },
    {
     "data": {
      "text/plain": [
       "[0.12496017664670944, 0.9473684430122375, 0.994595468044281]"
      ]
     },
     "execution_count": 18,
     "metadata": {},
     "output_type": "execute_result"
    }
   ],
   "source": [
    "breast_cancer_classifier.evaluate(test_x, test_y,  callbacks=callbacks)"
   ]
  },
  {
   "cell_type": "code",
   "execution_count": 36,
   "id": "3bfd2b6c-920d-4281-ade1-f4ddccef8892",
   "metadata": {},
   "outputs": [],
   "source": [
    "from sklearn.metrics import classification_report\n",
    "import json"
   ]
  },
  {
   "cell_type": "code",
   "execution_count": 30,
   "id": "9e982161-09a2-4e57-b317-a2d611bce234",
   "metadata": {},
   "outputs": [
    {
     "name": "stdout",
     "output_type": "stream",
     "text": [
      "4/4 [==============================] - 0s 18ms/step\n"
     ]
    }
   ],
   "source": [
    "preds = np.round(breast_cancer_classifier.predict(test_x)).reshape(test_y.shape[0])"
   ]
  },
  {
   "cell_type": "code",
   "execution_count": 42,
   "id": "2ee0a8c5-cd8e-4978-929a-3a074c46dd90",
   "metadata": {},
   "outputs": [],
   "source": [
    "eval_results = classification_report(\n",
    "    np.where(test_y == 1, \"m\", \"b\"),\n",
    "    np.where(preds == 1, \"m\", \"b\"),\n",
    "    output_dict=True,\n",
    ")"
   ]
  },
  {
   "cell_type": "code",
   "execution_count": 43,
   "id": "2c6b8eee-5f98-4f9c-afaf-e269b1ddae49",
   "metadata": {},
   "outputs": [],
   "source": [
    "with open(\"results/tf_results.json\", \"w\") as f:\n",
    "    json.dump(eval_results, f)"
   ]
  },
  {
   "cell_type": "code",
   "execution_count": null,
   "id": "162630cc-0e53-401c-acf8-fb02f8030443",
   "metadata": {},
   "outputs": [],
   "source": []
  }
 ],
 "metadata": {
  "kernelspec": {
   "display_name": "slowvibe:Python",
   "language": "python",
   "name": "conda-env-slowvibe-py"
  },
  "language_info": {
   "codemirror_mode": {
    "name": "ipython",
    "version": 3
   },
   "file_extension": ".py",
   "mimetype": "text/x-python",
   "name": "python",
   "nbconvert_exporter": "python",
   "pygments_lexer": "ipython3",
   "version": "3.8.13"
  }
 },
 "nbformat": 4,
 "nbformat_minor": 5
}
