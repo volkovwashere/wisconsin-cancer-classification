{
 "cells": [
  {
   "cell_type": "code",
   "execution_count": 1,
   "id": "1619e634-33de-407f-9613-8b3e7d853f21",
   "metadata": {},
   "outputs": [],
   "source": [
    "import json"
   ]
  },
  {
   "cell_type": "code",
   "execution_count": 2,
   "id": "801b5249-6a10-43d9-a064-b3bac94093a8",
   "metadata": {},
   "outputs": [],
   "source": [
    "def load_json_res(path: str) -> dict:\n",
    "    with open(path, \"r\") as f:\n",
    "        return json.load(f)"
   ]
  },
  {
   "cell_type": "code",
   "execution_count": 3,
   "id": "d99d9518-f233-494f-aaf1-dc0f776db9b7",
   "metadata": {},
   "outputs": [],
   "source": [
    "catboost_results = load_json_res(\"results/catboost_results.json\")"
   ]
  },
  {
   "cell_type": "code",
   "execution_count": 17,
   "id": "4f4f9fb0-21dc-41fa-9aa6-52f07886279b",
   "metadata": {},
   "outputs": [],
   "source": [
    "tf_results = load_json_res(\"results/tf_results.json\")"
   ]
  },
  {
   "cell_type": "code",
   "execution_count": 25,
   "id": "6b57f35c-5506-4d3b-96c2-0daecbd17fd6",
   "metadata": {},
   "outputs": [],
   "source": [
    "def compare_results(res_1: dict, res_2: dict, name_1: str, name_2: str) -> None:\n",
    "    assert res_1.keys() == res_2.keys()\n",
    "    counter_1 = 0\n",
    "    counter_2 = 0\n",
    "\n",
    "    for k in res_1:\n",
    "        try:\n",
    "            for nested_k in res_1[k]:\n",
    "                if res_1[k][nested_k] > res_2[k][nested_k]:\n",
    "                    counter_1 += 1\n",
    "                elif res_1[k][nested_k] < res_2[k][nested_k]:\n",
    "                    counter_2 += 1\n",
    "        except:\n",
    "            if res_1[k] > res_2[k]:\n",
    "                counter_1 += 1\n",
    "            elif res_1[k] < res_2[k]:\n",
    "                counter_2 += 1\n",
    "    \n",
    "    print(f\"Model {name_1} was better {counter_1} times, {name_2} was better {counter_2} times\")\n",
    "    if counter_1 > counter_2:\n",
    "        print(f\"{name_1} model was better based on automated eval, selecting model and pushing model...\")\n",
    "\n",
    "    elif counter_2 > counter_1:\n",
    "        print(f\"{name_2} model was better based on automated eval, selecting model and pushing model...\")\n",
    "    \n",
    "    else:\n",
    "        print(\"Model performance was equal, sending models for manual evaluation ...\")"
   ]
  },
  {
   "cell_type": "code",
   "execution_count": 27,
   "id": "9f8c2b2e-2c94-4577-8ac7-a3cff19bf404",
   "metadata": {},
   "outputs": [
    {
     "name": "stdout",
     "output_type": "stream",
     "text": [
      "Model tf_model was better 0 times, catboost_model was better 12 times\n",
      "catboost_model model was better based on automated eval, selecting model and pushing model...\n"
     ]
    }
   ],
   "source": [
    "compare_results(\n",
    "    res_1=tf_results,\n",
    "    res_2=catboost_results,\n",
    "    name_1=\"tf_model\",\n",
    "    name_2=\"catboost_model\",\n",
    ")"
   ]
  },
  {
   "cell_type": "code",
   "execution_count": null,
   "id": "724b6923-a19e-4353-847b-0bfb76831bc2",
   "metadata": {},
   "outputs": [],
   "source": []
  }
 ],
 "metadata": {
  "kernelspec": {
   "display_name": "slowvibe:Python",
   "language": "python",
   "name": "conda-env-slowvibe-py"
  },
  "language_info": {
   "codemirror_mode": {
    "name": "ipython",
    "version": 3
   },
   "file_extension": ".py",
   "mimetype": "text/x-python",
   "name": "python",
   "nbconvert_exporter": "python",
   "pygments_lexer": "ipython3",
   "version": "3.8.13"
  }
 },
 "nbformat": 4,
 "nbformat_minor": 5
}
